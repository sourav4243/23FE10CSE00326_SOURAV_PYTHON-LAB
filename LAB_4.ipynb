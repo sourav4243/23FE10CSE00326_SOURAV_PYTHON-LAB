{
  "nbformat": 4,
  "nbformat_minor": 0,
  "metadata": {
    "colab": {
      "provenance": []
    },
    "kernelspec": {
      "name": "python3",
      "display_name": "Python 3"
    },
    "language_info": {
      "name": "python"
    }
  },
  "cells": [
    {
      "cell_type": "code",
      "execution_count": null,
      "metadata": {
        "colab": {
          "base_uri": "https://localhost:8080/"
        },
        "id": "4PrTZ8JN0wMl",
        "outputId": "69f8f8e4-ab7b-4c86-8096-bf61ff535846"
      },
      "outputs": [
        {
          "output_type": "stream",
          "name": "stdout",
          "text": [
            "Enter num: 175\n",
            "175 is a disarium number\n"
          ]
        }
      ],
      "source": [
        "# 1. WAP to check if given number is disarium number (1^1 + 7^2 + 5^3 = 175)\n",
        "num = input(\"Enter num: \")\n",
        "sum = 0\n",
        "count = 1\n",
        "for i in num:\n",
        "  sum += int(i)**count\n",
        "  count += 1\n",
        "if sum == int(num):\n",
        "  print(num, \"is a disarium number\")\n",
        "else:\n",
        "  print(num, \"is not a disarium number\")"
      ]
    },
    {
      "cell_type": "code",
      "source": [
        "# 2. WAP to det whether the given number is a harshad number (if number is divisible by the sum of its digits, then its harshad number)\n",
        "num = input(\"Enter num: \")\n",
        "sum = 0\n",
        "for i in num:\n",
        "  sum += int(i)\n",
        "if int(num) % sum == 0:\n",
        "  print(num, \"is harshad number\")\n",
        "else:\n",
        "  print(num, \"is not a harshad number\")"
      ],
      "metadata": {
        "colab": {
          "base_uri": "https://localhost:8080/"
        },
        "id": "70enrNBM1IVk",
        "outputId": "20396d47-1e9b-4a8a-9a0f-7e305e384d37"
      },
      "execution_count": null,
      "outputs": [
        {
          "output_type": "stream",
          "name": "stdout",
          "text": [
            "Enter num: 50\n",
            "50 is harshad number\n"
          ]
        }
      ]
    },
    {
      "cell_type": "code",
      "source": [
        "# 3. WAP to print armstrong number from 1 to 1000\n",
        "num = 1\n",
        "while num < 1000:\n",
        "  sum = 0\n",
        "  for i in str(num):\n",
        "      sum += int(i)**len(str(num))\n",
        "  if sum == num:\n",
        "      print(num,end=' ')\n",
        "  num += 1"
      ],
      "metadata": {
        "colab": {
          "base_uri": "https://localhost:8080/"
        },
        "id": "FE6IrmY91pfk",
        "outputId": "f2fdd5c9-0e34-40f7-9ee0-90cca6b5f3e8"
      },
      "execution_count": null,
      "outputs": [
        {
          "output_type": "stream",
          "name": "stdout",
          "text": [
            "1 2 3 4 5 6 7 8 9 153 370 371 407 "
          ]
        }
      ]
    },
    {
      "cell_type": "code",
      "source": [
        "# 4. WAP to compute value of X^n\n",
        "X = int(input(\"Enter X: \"))\n",
        "n = int(input(\"Enter n: \"))\n",
        "print(f\"{X}^{n} = {X**n}\")"
      ],
      "metadata": {
        "colab": {
          "base_uri": "https://localhost:8080/"
        },
        "id": "Wd5Okl3A2FfJ",
        "outputId": "a414028c-90ac-481e-dfda-3871d06e3976"
      },
      "execution_count": null,
      "outputs": [
        {
          "output_type": "stream",
          "name": "stdout",
          "text": [
            "Enter X: 5\n",
            "Enter n: 3\n",
            "5^3 = 125\n"
          ]
        }
      ]
    },
    {
      "cell_type": "code",
      "source": [
        "# 5. WAP to compute the value of nCr\n",
        "import math\n",
        "n = int(input(\"Enter n: \"))\n",
        "r = int(input(\"Enter r: \"))\n",
        "\n",
        "print(f\"nCr = {math.factorial(n) / (math.factorial(r) * math.factorial(n - r))}\")"
      ],
      "metadata": {
        "colab": {
          "base_uri": "https://localhost:8080/"
        },
        "id": "oinqdiV52tjs",
        "outputId": "4d2fe6b1-00ba-4ab5-cfc0-c4ff65e1b1d6"
      },
      "execution_count": null,
      "outputs": [
        {
          "output_type": "stream",
          "name": "stdout",
          "text": [
            "Enter n: 8\n",
            "Enter r: 5\n",
            "nCr = 56.0\n"
          ]
        }
      ]
    },
    {
      "cell_type": "code",
      "source": [
        "# 6. WAP to generate the fibonacci series\n",
        "n = int(input(\"Enter number of terms: \"))\n",
        "if n==1:\n",
        "  print(0)\n",
        "else:\n",
        "  n1,n2 = 0,1\n",
        "  print(n1,n2,end=' ')\n",
        "  for _ in range(2,n):\n",
        "    n3 = n1+n2\n",
        "    print(n3,end=' ')\n",
        "    n1,n2 = n2,n3"
      ],
      "metadata": {
        "colab": {
          "base_uri": "https://localhost:8080/"
        },
        "id": "EtnTpEgX3YTl",
        "outputId": "87ad461f-ad32-401c-9fb4-a27d5ae816ee"
      },
      "execution_count": null,
      "outputs": [
        {
          "output_type": "stream",
          "name": "stdout",
          "text": [
            "Enter number of terms: 10\n",
            "0 1 1 2 3 5 8 13 21 34 "
          ]
        }
      ]
    },
    {
      "cell_type": "code",
      "source": [
        "# 7. WAP to count the sum of digits in the entered number.\n",
        "num = input(\"Enter num: \")\n",
        "sum = 0\n",
        "for i in num:\n",
        "  sum += int(i)\n",
        "print(sum)"
      ],
      "metadata": {
        "colab": {
          "base_uri": "https://localhost:8080/"
        },
        "id": "IUOrpazG5QJ9",
        "outputId": "84b8fcd6-b657-4d52-de96-8d8c45f300fa"
      },
      "execution_count": null,
      "outputs": [
        {
          "output_type": "stream",
          "name": "stdout",
          "text": [
            "Enter num: 123\n",
            "6\n"
          ]
        }
      ]
    },
    {
      "cell_type": "code",
      "source": [
        "# 8. WAP to find the reverse of given number\n",
        "num = input(\"Enter num: \")\n",
        "print(int(num[::-1]))"
      ],
      "metadata": {
        "colab": {
          "base_uri": "https://localhost:8080/"
        },
        "id": "XVvWmkcV5h8n",
        "outputId": "29d0b9f7-1084-4387-a995-28d68485823f"
      },
      "execution_count": null,
      "outputs": [
        {
          "output_type": "stream",
          "name": "stdout",
          "text": [
            "Enter num: 1234\n",
            "4321\n"
          ]
        }
      ]
    },
    {
      "cell_type": "code",
      "source": [
        "# 9. WAP to check whether the given number is perfect or not\n",
        "# perfect number is a number which is equal to sum of its positive proper divisors except number itself\n",
        "num = int(input(\"Enter num: \"))\n",
        "sum=0\n",
        "for i in range(1, num//2+1):\n",
        "  if num % i == 0:\n",
        "    sum+=i\n",
        "if num == sum:\n",
        "  print(num,\"is a perfect number\")\n",
        "else:\n",
        "  print(num,\"is not a perfect number\")"
      ],
      "metadata": {
        "colab": {
          "base_uri": "https://localhost:8080/"
        },
        "id": "M2Xhwr2f5sgk",
        "outputId": "6dfb3328-70b8-4c05-f7cc-44ff5fb34132"
      },
      "execution_count": null,
      "outputs": [
        {
          "output_type": "stream",
          "name": "stdout",
          "text": [
            "Enter num: 6\n",
            "6 is a perfect number\n"
          ]
        }
      ]
    },
    {
      "cell_type": "code",
      "source": [
        "# 10. WAP to check whether a given number is palindrome or not\n",
        "num = input(\"Enter num: \")\n",
        "if num == num[::-1]:\n",
        "    print(int(num), \"is a palindrome\")\n",
        "else:\n",
        "    print(int(num), \"is not a palindrome\")"
      ],
      "metadata": {
        "colab": {
          "base_uri": "https://localhost:8080/"
        },
        "id": "4VwYCsJB7yaJ",
        "outputId": "d06f9c95-e2eb-4bf1-d29e-59bde8a2a580"
      },
      "execution_count": null,
      "outputs": [
        {
          "output_type": "stream",
          "name": "stdout",
          "text": [
            "Enter num: 12321\n",
            "12321 is a palindrome\n"
          ]
        }
      ]
    },
    {
      "cell_type": "code",
      "source": [
        "# 11. Write a program to display the following pattern:\n",
        "# 1\n",
        "# 1 2\n",
        "# 1 2 3\n",
        "# 1 2 3 4\n",
        "# 1 2 3 4 5\n",
        "\n",
        "n = int(input(\"Enter num of rows: \"))\n",
        "for i in range(1,n+1):\n",
        "    for j in range(1,i+1):\n",
        "        print(j,end=' ')\n",
        "    print()"
      ],
      "metadata": {
        "colab": {
          "base_uri": "https://localhost:8080/"
        },
        "id": "rNbSxjwa769g",
        "outputId": "b95a83d2-6c4a-40c9-d6b6-104d15eff665"
      },
      "execution_count": 5,
      "outputs": [
        {
          "output_type": "stream",
          "name": "stdout",
          "text": [
            "Enter num of rows: 5\n",
            "1 \n",
            "1 2 \n",
            "1 2 3 \n",
            "1 2 3 4 \n",
            "1 2 3 4 5 \n"
          ]
        }
      ]
    },
    {
      "cell_type": "code",
      "source": [
        "# 12. Write a program to display the following pattern:\n",
        "# 1\n",
        "# 2 2\n",
        "# 3 3 3\n",
        "# 4 4 4 4\n",
        "# 5 5 5 5 5\n",
        "\n",
        "n = int(input(\"Enter num of rows: \"))\n",
        "for i in range(1,n+1):\n",
        "    for j in range(1,i+1):\n",
        "        print(i,end=' ')\n",
        "    print()"
      ],
      "metadata": {
        "colab": {
          "base_uri": "https://localhost:8080/"
        },
        "id": "lD7i4bKV8HND",
        "outputId": "d1fd0f3d-17c7-4ae0-e81f-8792e98ddc59"
      },
      "execution_count": 4,
      "outputs": [
        {
          "output_type": "stream",
          "name": "stdout",
          "text": [
            "Enter num of rows: 5\n",
            "1 \n",
            "2 2 \n",
            "3 3 3 \n",
            "4 4 4 4 \n",
            "5 5 5 5 5 \n"
          ]
        }
      ]
    },
    {
      "cell_type": "code",
      "source": [
        "# 13. Write a program to display the following pattern:\n",
        "# A\n",
        "# B B\n",
        "# C C C\n",
        "# D D D D\n",
        "# E E E E E\n",
        "\n",
        "n = int(input(\"Enter num of rows: \"))\n",
        "for i in range(1,n+1):\n",
        "  for j in range(1,i+1):\n",
        "      print(chr(i+64),end=' ')\n",
        "  print()"
      ],
      "metadata": {
        "colab": {
          "base_uri": "https://localhost:8080/"
        },
        "id": "Y6zPZVSA8S_F",
        "outputId": "068ede3c-b86a-45ed-cd48-01d4cfce6aba"
      },
      "execution_count": null,
      "outputs": [
        {
          "output_type": "stream",
          "name": "stdout",
          "text": [
            "Enter num of rows: 5\n",
            "A \n",
            "B B \n",
            "C C C \n",
            "D D D D \n",
            "E E E E E \n"
          ]
        }
      ]
    },
    {
      "cell_type": "code",
      "source": [
        "# 14. Write a program to display the following pattern:\n",
        "# *****\n",
        "# ****\n",
        "# ***\n",
        "# **\n",
        "# *\n",
        "n = int(input(\"Enter num of rows: \"))\n",
        "for i in range(n + 1, 0,  -1):\n",
        "  for j in range(i + 1, 2, -1):\n",
        "      print(\"*\", end=\" \")\n",
        "  print()"
      ],
      "metadata": {
        "colab": {
          "base_uri": "https://localhost:8080/"
        },
        "id": "zHhyrDh1ILfa",
        "outputId": "f1a17d71-6fda-4b7e-a78e-521849ef7f28"
      },
      "execution_count": 3,
      "outputs": [
        {
          "output_type": "stream",
          "name": "stdout",
          "text": [
            "Enter num of rows: 5\n",
            "* * * * * \n",
            "* * * * \n",
            "* * * \n",
            "* * \n",
            "* \n",
            "\n"
          ]
        }
      ]
    },
    {
      "cell_type": "code",
      "source": [
        "# 15. Write a program to display the following pattern:\n",
        "# 1 2 3 4 5\n",
        "# 1 2 3 4\n",
        "# 1 2 3\n",
        "# 1 2\n",
        "# 1\n",
        "\n",
        "n = int(input(\"Enter num of rows: \"))\n",
        "for i in range(n):\n",
        "  for j in range(1,n-i+1):\n",
        "    print(j,end=' ')\n",
        "  print()"
      ],
      "metadata": {
        "colab": {
          "base_uri": "https://localhost:8080/"
        },
        "id": "Bke-q3Y1R7sR",
        "outputId": "608974b2-0094-4b1a-9632-a2d49efde824"
      },
      "execution_count": 15,
      "outputs": [
        {
          "output_type": "stream",
          "name": "stdout",
          "text": [
            "Enter num of rows: 5\n",
            "1 2 3 4 5 \n",
            "1 2 3 4 \n",
            "1 2 3 \n",
            "1 2 \n",
            "1 \n"
          ]
        }
      ]
    },
    {
      "cell_type": "code",
      "source": [
        "# 16. Write a program to display the following pattern:\n",
        "#         *\n",
        "#       * * *\n",
        "#     * * * * *\n",
        "#   * * * * * * *\n",
        "# * * * * * * * * *\n",
        "n = int(input(\"Enter number of rows: \"))\n",
        "for i in range(1, n + 1):\n",
        "    print(\"  \" * (n - i), end=\"\")\n",
        "    print(\"* \" * (2 * i - 1))\n"
      ],
      "metadata": {
        "colab": {
          "base_uri": "https://localhost:8080/"
        },
        "id": "awDamxhSUmYq",
        "outputId": "221e3985-f8a9-4933-d22a-eaad5f1692f2"
      },
      "execution_count": 16,
      "outputs": [
        {
          "output_type": "stream",
          "name": "stdout",
          "text": [
            "Enter number of rows: 5\n",
            "        * \n",
            "      * * * \n",
            "    * * * * * \n",
            "  * * * * * * * \n",
            "* * * * * * * * * \n"
          ]
        }
      ]
    },
    {
      "cell_type": "code",
      "source": [
        "# 17. Write a program to display the following pattern:\n",
        "#         1\n",
        "#       2 3 2\n",
        "#     3 4 5 4 3\n",
        "#   4 5 6 7 6 5 4\n",
        "# 5 6 7 8 9 8 7 6 5\n",
        "n = int(input(\"Enter number of rows: \"))\n",
        "for i in range(1, n + 1):\n",
        "    print(\"  \" * (n - i), end=\"\")\n",
        "    num = i\n",
        "    for j in range(i):\n",
        "        print(num, end=\" \")\n",
        "        num += 1\n",
        "\n",
        "    num -= 2\n",
        "    for j in range(i - 1):\n",
        "        print(num, end=\" \")\n",
        "        num -= 1\n",
        "\n",
        "    print()\n"
      ],
      "metadata": {
        "colab": {
          "base_uri": "https://localhost:8080/"
        },
        "id": "GYApjzQZXHjm",
        "outputId": "a15fcbe3-b82e-4e11-973a-359e30db8bc6"
      },
      "execution_count": 17,
      "outputs": [
        {
          "output_type": "stream",
          "name": "stdout",
          "text": [
            "Enter number of rows: 5\n",
            "        1 \n",
            "      2 3 2 \n",
            "    3 4 5 4 3 \n",
            "  4 5 6 7 6 5 4 \n",
            "5 6 7 8 9 8 7 6 5 \n"
          ]
        }
      ]
    },
    {
      "cell_type": "code",
      "source": [
        "# 18. Write a program to display the following pattern:\n",
        "#  * * * * * * * * *\n",
        "#    * * * * * * *\n",
        "#      * * * * *\n",
        "#        * * *\n",
        "#          *\n",
        "n = int(input(\"Enter number of rows: \"))\n",
        "for i in range(n):\n",
        "    print(\"  \" * i, end=\"\")\n",
        "    print(\"* \" * (2 * (n - i) - 1))"
      ],
      "metadata": {
        "colab": {
          "base_uri": "https://localhost:8080/"
        },
        "id": "__dcmgmwdSnW",
        "outputId": "c9dd1b96-432b-40da-ab21-f38b2de39a9a"
      },
      "execution_count": 23,
      "outputs": [
        {
          "output_type": "stream",
          "name": "stdout",
          "text": [
            "Enter number of rows: 5\n",
            "* * * * * * * * * \n",
            "  * * * * * * * \n",
            "    * * * * * \n",
            "      * * * \n",
            "        * \n"
          ]
        }
      ]
    },
    {
      "cell_type": "code",
      "source": [
        "# 19. Write a program to display the following pattern (Pascal Triangle):\n",
        "#         1\n",
        "#       1   1\n",
        "#     1   2   1\n",
        "#   1   3   3    1\n",
        "#  1  4   6   4   1\n",
        "# 1  5  10  10  5   1\n",
        "from math import factorial\n",
        "n = int(input(\"Enter number of rows: \"))\n",
        "for i in range(n):\n",
        "    print(' ' * (n - i), end='')\n",
        "    num = 1\n",
        "    for j in range(i + 1):\n",
        "      num = factorial(i) // (factorial(j) * factorial(i - j))\n",
        "      print(f\"{num}\",end=\" \")\n",
        "    print()"
      ],
      "metadata": {
        "colab": {
          "base_uri": "https://localhost:8080/"
        },
        "id": "2t49zyX9aQv7",
        "outputId": "63d66d6b-a59d-4362-8ce8-f9b5cc28866b"
      },
      "execution_count": 21,
      "outputs": [
        {
          "output_type": "stream",
          "name": "stdout",
          "text": [
            "Enter number of rows: 5\n",
            "     1 \n",
            "    1 1 \n",
            "   1 2 1 \n",
            "  1 3 3 1 \n",
            " 1 4 6 4 1 \n"
          ]
        }
      ]
    },
    {
      "cell_type": "code",
      "source": [
        "# 20. Write a program to display the following pattern:\n",
        "# 1\n",
        "# 2 3\n",
        "# 4 5 6\n",
        "# 7 8 9 10\n",
        "n = int(input(\"Enter number of rows: \"))\n",
        "num = 1\n",
        "for i in range(1, n + 1):\n",
        "    for j in range(i):\n",
        "        print(num, end=\" \")\n",
        "        num += 1\n",
        "    print()"
      ],
      "metadata": {
        "colab": {
          "base_uri": "https://localhost:8080/"
        },
        "id": "s3RBYVjAeUTF",
        "outputId": "11446c0e-5dc0-4d3b-bf23-679195e1fb8d"
      },
      "execution_count": 26,
      "outputs": [
        {
          "output_type": "stream",
          "name": "stdout",
          "text": [
            "Enter number of rows: 4\n",
            "1 \n",
            "2 3 \n",
            "4 5 6 \n",
            "7 8 9 10 \n"
          ]
        }
      ]
    },
    {
      "cell_type": "code",
      "source": [
        "# 21. Write a program to display the following pattern:\n",
        "# A\n",
        "# B A B\n",
        "# A B A B A\n",
        "# B A B A B A B\n",
        "\n",
        "n = int(input(\"Enter num of rows: \"))\n",
        "f = 0\n",
        "for i in range(n):\n",
        "    for j in range(2 * i + 1):\n",
        "        if f == 0:\n",
        "            print(\"A\", end=\" \")\n",
        "            f = 1\n",
        "        else:\n",
        "            print(\"B\", end=\" \")\n",
        "            f = 0\n",
        "    print()"
      ],
      "metadata": {
        "colab": {
          "base_uri": "https://localhost:8080/"
        },
        "id": "ns7oNlWZfOZv",
        "outputId": "251addb6-b631-4638-b112-b92b4470bf49"
      },
      "execution_count": 29,
      "outputs": [
        {
          "output_type": "stream",
          "name": "stdout",
          "text": [
            "Enter num of rows: 4\n",
            "A \n",
            "B A B \n",
            "A B A B A \n",
            "B A B A B A B \n"
          ]
        }
      ]
    },
    {
      "cell_type": "code",
      "source": [
        "# 12. Write a program to display the following pattern:\n",
        "# 1\n",
        "# 0 1 0\n",
        "# 1 0 1 0 1\n",
        "# 0 1 0 1 0 1 0\n",
        "\n",
        "n = int(input(\"Enter num of rows: \"))\n",
        "f = 0\n",
        "for i in range(n):\n",
        "    for j in range(2 * i + 1):\n",
        "        if f == 0:\n",
        "            print(1, end=\" \")\n",
        "            f = 1\n",
        "        else:\n",
        "            print(0, end=\" \")\n",
        "            f = 0\n",
        "    print()\n"
      ],
      "metadata": {
        "colab": {
          "base_uri": "https://localhost:8080/"
        },
        "id": "YCWrpQEmhOP-",
        "outputId": "2612dd1c-ac31-42df-a8ae-0dbb3f5b98e1"
      },
      "execution_count": 37,
      "outputs": [
        {
          "output_type": "stream",
          "name": "stdout",
          "text": [
            "Enter num of rows: 4\n",
            "1 \n",
            "0 1 0 \n",
            "1 0 1 0 1 \n",
            "0 1 0 1 0 1 0 \n"
          ]
        }
      ]
    }
  ]
}