{
 "cells": [
  {
   "cell_type": "markdown",
   "id": "0dae4006-f29f-4f83-ac6f-d066d457b94a",
   "metadata": {},
   "source": [
    " ## BASIC python program"
   ]
  },
  {
   "cell_type": "code",
   "execution_count": 22,
   "id": "a9212c5d-1389-46ac-86f2-0f7aa300cdc2",
   "metadata": {},
   "outputs": [],
   "source": [
    "import math\n",
    "import cmath"
   ]
  },
  {
   "cell_type": "code",
   "execution_count": 24,
   "id": "0c363303-2a07-4cab-bba3-d48fbb68f22a",
   "metadata": {},
   "outputs": [
    {
     "name": "stdout",
     "output_type": "stream",
     "text": [
      "30\n"
     ]
    }
   ],
   "source": [
    "a=10\n",
    "b=20\n",
    "c=a+b\n",
    "print(c)"
   ]
  },
  {
   "cell_type": "code",
   "execution_count": 28,
   "id": "80dccc98-8b0a-44d5-a106-69e7032bf3c6",
   "metadata": {},
   "outputs": [
    {
     "name": "stdin",
     "output_type": "stream",
     "text": [
      "enter x 8\n"
     ]
    },
    {
     "name": "stdout",
     "output_type": "stream",
     "text": [
      "40320\n"
     ]
    }
   ],
   "source": [
    "x=int(input(\"enter x\"))\n",
    "fact = math.factorial(x)\n",
    "print(fact)"
   ]
  },
  {
   "cell_type": "code",
   "execution_count": 34,
   "id": "1ba4f9c7-af67-4bd2-81e7-441f4bc53c28",
   "metadata": {},
   "outputs": [
    {
     "name": "stdin",
     "output_type": "stream",
     "text": [
      "integer: 3\n",
      "string: hello\n",
      "float: 4.5\n"
     ]
    },
    {
     "name": "stdout",
     "output_type": "stream",
     "text": [
      "3 hello 4.5 \n",
      " <class 'int'> <class 'str'> <class 'float'>\n"
     ]
    }
   ],
   "source": [
    "#write a program to read and print values of variables of different data tupe with their type\n",
    "a=int(input(\"integer:\"))\n",
    "b=input(\"string:\")\n",
    "c=float(input(\"float:\"))\n",
    "print(a,b,c,\"\\n\",type(a),type(b),type(c))"
   ]
  },
  {
   "cell_type": "code",
   "execution_count": 52,
   "id": "90ce8b84-ccf3-4b0a-bda5-5bb5f4d66f9f",
   "metadata": {},
   "outputs": [
    {
     "name": "stdin",
     "output_type": "stream",
     "text": [
      "num a: 5\n",
      "num b: 6\n"
     ]
    },
    {
     "name": "stdout",
     "output_type": "stream",
     "text": [
      "11.00\n",
      "-1.00\n",
      "30.00\n",
      "0.83\n"
     ]
    }
   ],
   "source": [
    "#write a program to perform addition, subtraction, multiplication, division on two floating point number and print the result upto two places of decimal\n",
    "a=float(input(\"num a:\"))\n",
    "b=float(input(\"num b:\"))\n",
    "addition = a+b\n",
    "subtraction = a-b\n",
    "multiplication = a*b\n",
    "division = a/b\n",
    "print(f\"{addition:.2f}\")\n",
    "print(f\"{subtraction:.2f}\")\n",
    "print(f\"{multiplication:.2f}\")\n",
    "print(f\"{division:.2f}\")\n"
   ]
  },
  {
   "cell_type": "code",
   "execution_count": 48,
   "id": "eeabf605-6bc5-4c11-a500-e8ac3d7f532d",
   "metadata": {},
   "outputs": [
    {
     "name": "stdin",
     "output_type": "stream",
     "text": [
      "a: 6\n",
      "b: 5\n"
     ]
    },
    {
     "name": "stdout",
     "output_type": "stream",
     "text": [
      "11\n",
      "1\n",
      "30\n",
      "1.2\n",
      "1\n",
      "1\n"
     ]
    }
   ],
   "source": [
    "#write a program to perform different arithmetic operations\n",
    "a=int(input(\"a:\"))\n",
    "b=int(input(\"b:\"))\n",
    "print(a+b)\n",
    "print(a-b)\n",
    "print(a*b)\n",
    "print(a/b)\n",
    "print(a%b)\n",
    "print(a//b)"
   ]
  },
  {
   "cell_type": "code",
   "execution_count": 50,
   "id": "094c463b-a527-4b1d-979d-89667f8319da",
   "metadata": {},
   "outputs": [
    {
     "name": "stdin",
     "output_type": "stream",
     "text": [
      "enter a: 5\n",
      "enter b: 3\n"
     ]
    },
    {
     "name": "stdout",
     "output_type": "stream",
     "text": [
      "avg =  4.0\n",
      "deviation of a =  1.0\n",
      "deviation of b =  -1.0\n"
     ]
    }
   ],
   "source": [
    "#write a program to find average of two nums anf print their deviation\n",
    "a=int(input(\"enter a:\"))\n",
    "b=int(input(\"enter b:\"))\n",
    "avg=(a+b)/2\n",
    "print(\"avg = \",avg)\n",
    "print(\"deviation of a = \",a-avg)\n",
    "print(\"deviation of b = \",b-avg)\n"
   ]
  },
  {
   "cell_type": "code",
   "execution_count": 61,
   "id": "faa9f9a3-d5a3-4eee-a8be-64c81ffc7b65",
   "metadata": {},
   "outputs": [
    {
     "name": "stdin",
     "output_type": "stream",
     "text": [
      "Enter number of items to purchase : 3\n",
      "Enter Item Name : pen\n"
     ]
    },
    {
     "ename": "TypeError",
     "evalue": "Kernel.raw_input() takes from 1 to 2 positional arguments but 4 were given",
     "output_type": "error",
     "traceback": [
      "\u001b[1;31m---------------------------------------------------------------------------\u001b[0m",
      "\u001b[1;31mTypeError\u001b[0m                                 Traceback (most recent call last)",
      "Cell \u001b[1;32mIn[61], line 12\u001b[0m\n\u001b[0;32m     10\u001b[0m \u001b[38;5;28;01mfor\u001b[39;00m i \u001b[38;5;129;01min\u001b[39;00m \u001b[38;5;28mrange\u001b[39m (numOfItems) :\n\u001b[0;32m     11\u001b[0m     itemName \u001b[38;5;241m=\u001b[39m \u001b[38;5;28minput\u001b[39m(\u001b[38;5;124m\"\u001b[39m\u001b[38;5;124mEnter Item Name :\u001b[39m\u001b[38;5;124m\"\u001b[39m)\n\u001b[1;32m---> 12\u001b[0m     qty \u001b[38;5;241m=\u001b[39m \u001b[38;5;28mint\u001b[39m(\u001b[38;5;28minput\u001b[39m(\u001b[38;5;124m\"\u001b[39m\u001b[38;5;124mEnter qualtity of \u001b[39m\u001b[38;5;124m\"\u001b[39m,itemName,\u001b[38;5;124m\"\u001b[39m\u001b[38;5;124m : \u001b[39m\u001b[38;5;124m\"\u001b[39m))\n\u001b[0;32m     13\u001b[0m     price \u001b[38;5;241m=\u001b[39m \u001b[38;5;28mint\u001b[39m(\u001b[38;5;28minput\u001b[39m(\u001b[38;5;124m\"\u001b[39m\u001b[38;5;124mEnter price :\u001b[39m\u001b[38;5;124m\"\u001b[39m))\n\u001b[0;32m     14\u001b[0m     item\u001b[38;5;241m.\u001b[39mappend(itemName,qty,price)\n",
      "\u001b[1;31mTypeError\u001b[0m: Kernel.raw_input() takes from 1 to 2 positional arguments but 4 were given"
     ]
    }
   ],
   "source": [
    "#wap to prepare grocery bill. input name of item purchased , quantity of item, and price per unit. Then the bill is this format:\n",
    "# ********************BILL*********************\n",
    "#Item Name         Item Quanlity      Item Price\n",
    "# *********************************************\n",
    "#Total amoumnt to be paid\n",
    "# ***********************************************\n",
    "numOfItems = int(input(\"Enter number of items to purchase :\"))\n",
    "item =[]\n",
    "TotalPrice=0\n",
    "for i in range (numOfItems) :\n",
    "    itemName = input(\"Enter Item Name :\")\n",
    "    qty = int(input(\"Enter qualtity of \",itemName,\" : \"))\n",
    "    price = int(input(\"Enter price :\"))\n",
    "    item.append(itemName,qty,price)\n",
    "    TotalPrice+=price*qty\n",
    "print(\"********************************BILL********************************\")\n",
    "print(\"Item Name                 Item Quanlity                   Item Price\")\n",
    "for i in item:\n",
    "    print(i[0],\"               \",i[1],\"                  \",i[2])\n",
    "Print(\"Total amount to be Paid                                  \",TotalPrice)\n",
    "print(\"********************************************************************\")"
   ]
  }
 ],
 "metadata": {
  "kernelspec": {
   "display_name": "Python 3 (ipykernel)",
   "language": "python",
   "name": "python3"
  },
  "language_info": {
   "codemirror_mode": {
    "name": "ipython",
    "version": 3
   },
   "file_extension": ".py",
   "mimetype": "text/x-python",
   "name": "python",
   "nbconvert_exporter": "python",
   "pygments_lexer": "ipython3",
   "version": "3.12.4"
  }
 },
 "nbformat": 4,
 "nbformat_minor": 5
}
