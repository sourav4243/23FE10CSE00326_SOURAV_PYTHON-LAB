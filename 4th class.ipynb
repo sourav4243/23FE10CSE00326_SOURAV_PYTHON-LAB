{
 "cells": [
  {
   "cell_type": "code",
   "execution_count": null,
   "id": "ce7d5c80-0a35-43a9-916e-5ea9559aceeb",
   "metadata": {},
   "outputs": [],
   "source": [
    "# name, father name, reg no, store in one string\n",
    "#take a loop and extract your reg. no without using slicing and store in new variable"
   ]
  },
  {
   "cell_type": "code",
   "execution_count": 11,
   "id": "f06e68ae-9040-4b61-be6e-b2e6cb3b108a",
   "metadata": {},
   "outputs": [
    {
     "name": "stdout",
     "output_type": "stream",
     "text": [
      "23FE10CSE00326\n"
     ]
    }
   ],
   "source": [
    "str1 = \"Sourav23FE10CSE00326Surendra Kumar\"\n",
    "reg = \"\"\n",
    "for i in range(len(str1)):\n",
    "    if str1[i].isdigit():\n",
    "        for a in range(14):\n",
    "            reg+=str1[i+a]\n",
    "        break\n",
    "print(reg)"
   ]
  },
  {
   "cell_type": "code",
   "execution_count": null,
   "id": "38241241-3a4b-4d3d-91fe-20f966b5cdcd",
   "metadata": {},
   "outputs": [],
   "source": [
    "#lab 4 questions:\n",
    "# 1. wap to find a number is Prime or not.\n",
    "# 2. wap to find the given numner is palinndrome or not.\n",
    "# 3. wap to find the grade of student using given percentage\n",
    "# 4. wap to create a simple console base calculator"
   ]
  },
  {
   "cell_type": "code",
   "execution_count": 29,
   "id": "d1fe1dae-242b-480c-a2e5-e5cb1cb8176e",
   "metadata": {},
   "outputs": [
    {
     "name": "stdout",
     "output_type": "stream",
     "text": [
      "Enter num: 6\n"
     ]
    },
    {
     "name": "stdout",
     "output_type": "stream",
     "text": [
      "Not Prime\n"
     ]
    }
   ],
   "source": [
    "## 1. wap to find a number is Prime or not.\n",
    "num = int(input(\"Enter num:\"))\n",
    "isPrime = True\n",
    "for i in range(2,num):\n",
    "    if num%i ==0:\n",
    "        isPrime = False\n",
    "        break\n",
    "if isPrime==True:\n",
    "    print(\"Prime\")\n",
    "else:\n",
    "    print(\"Not Prime\")\n",
    "    \n",
    "        "
   ]
  },
  {
   "cell_type": "code",
   "execution_count": 33,
   "id": "03a87800-6baa-4299-b52f-0d1597d07586",
   "metadata": {},
   "outputs": [
    {
     "name": "stdout",
     "output_type": "stream",
     "text": [
      "Enter num: 45\n"
     ]
    },
    {
     "name": "stdout",
     "output_type": "stream",
     "text": [
      "45 is not Palindrome.\n"
     ]
    }
   ],
   "source": [
    "## 2. wap to find the given numner is palinndrome or not.\n",
    "num = input(\"Enter num:\")\n",
    "if num == num[::-1]:\n",
    "    print(int(num),\"is Palindrome.\")\n",
    "else:\n",
    "    print(int(num),\"is not Palindrome.\")\n",
    "    "
   ]
  },
  {
   "cell_type": "code",
   "execution_count": 37,
   "id": "81a1112d-477d-4100-a5a9-d764a90b4d70",
   "metadata": {},
   "outputs": [
    {
     "name": "stdout",
     "output_type": "stream",
     "text": [
      "Enter precentage: 65\n"
     ]
    },
    {
     "name": "stdout",
     "output_type": "stream",
     "text": [
      "D\n"
     ]
    }
   ],
   "source": [
    "# 3. wap to find the grade of student using given percentage\n",
    "percentage = int(input(\"Enter precentage:\"))\n",
    "if percentage >90:\n",
    "    print(\"A\")\n",
    "elif 80<percentage<=90:\n",
    "    print(\"B\")\n",
    "elif 70<percentage<=80:\n",
    "    print(\"C\")\n",
    "elif 60<percentage<=70:\n",
    "    print(\"D\")\n",
    "else:\n",
    "    print(\"F\")"
   ]
  },
  {
   "cell_type": "code",
   "execution_count": 45,
   "id": "be676bf6-fff4-401d-9fbd-3903d0ba8a00",
   "metadata": {},
   "outputs": [
    {
     "name": "stdout",
     "output_type": "stream",
     "text": [
      "Enter num 1: 6\n",
      "Enter num 2: 4\n",
      "Enter operator: +, -, *, /, **, // *\n"
     ]
    },
    {
     "name": "stdout",
     "output_type": "stream",
     "text": [
      "24\n"
     ]
    }
   ],
   "source": [
    "# 4. wap to create a simple console base calculator\n",
    "a = int(input(\"Enter num 1:\"))\n",
    "b = int(input(\"Enter num 2:\"))\n",
    "operator = input(\"Enter operator: +, -, *, /, **, //\")\n",
    "if operator ==\"+\":\n",
    "    print(a+b)\n",
    "elif operator == '-':\n",
    "    print(a-b)\n",
    "elif operator == '*':\n",
    "    print(a*b)\n",
    "elif operator == '/':\n",
    "    print(a/b)\n",
    "elif operator == '**':\n",
    "    print(a**b)\n",
    "elif operator == '//':\n",
    "    print(a//b)\n"
   ]
  },
  {
   "cell_type": "code",
   "execution_count": null,
   "id": "7aeff6d4-08f6-4e31-9a32-23df118dcbb0",
   "metadata": {},
   "outputs": [],
   "source": [
    "# max substring question:\n",
    "\n",
    "mainStr = input(\"Enter Main string: \")\n",
    "str1 = input(\"Enter str1: \")\n"
   ]
  }
 ],
 "metadata": {
  "kernelspec": {
   "display_name": "Python 3 (ipykernel)",
   "language": "python",
   "name": "python3"
  },
  "language_info": {
   "codemirror_mode": {
    "name": "ipython",
    "version": 3
   },
   "file_extension": ".py",
   "mimetype": "text/x-python",
   "name": "python",
   "nbconvert_exporter": "python",
   "pygments_lexer": "ipython3",
   "version": "3.12.4"
  }
 },
 "nbformat": 4,
 "nbformat_minor": 5
}
