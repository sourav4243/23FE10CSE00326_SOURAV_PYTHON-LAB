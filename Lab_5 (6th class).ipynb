{
  "nbformat": 4,
  "nbformat_minor": 0,
  "metadata": {
    "colab": {
      "provenance": []
    },
    "kernelspec": {
      "name": "python3",
      "display_name": "Python 3"
    },
    "language_info": {
      "name": "python"
    }
  },
  "cells": [
    {
      "cell_type": "code",
      "execution_count": null,
      "metadata": {
        "colab": {
          "base_uri": "https://localhost:8080/"
        },
        "id": "211wBBND0G2n",
        "outputId": "4a8de23c-434b-4721-9385-14299c05495c"
      },
      "outputs": [
        {
          "output_type": "stream",
          "name": "stdout",
          "text": [
            "[3, 6, 9, 12, 15, 18]\n"
          ]
        }
      ],
      "source": [
        "# 1. Write a python program to triple all numbers in a list using python map\n",
        "\n",
        "l = [1,2,3,4,5,6]\n",
        "def triple(x):\n",
        "  return x*3\n",
        "\n",
        "print(list(map(triple,l)))"
      ]
    },
    {
      "cell_type": "code",
      "source": [
        "# 2. Write a python program to add three given lists using python map and lambda\n",
        "arr1 = [1,2,3,4,5]\n",
        "arr2 = [6,7,8,9,10]\n",
        "arr3 = [11,12,13,14,15]\n",
        "\n",
        "print(list(map(lambda x,y,z: x+y+z, arr1,arr2,arr3)))"
      ],
      "metadata": {
        "colab": {
          "base_uri": "https://localhost:8080/"
        },
        "id": "2l_15iNF0kA8",
        "outputId": "21830217-280d-45c5-c476-56af0ffeb6c2"
      },
      "execution_count": null,
      "outputs": [
        {
          "output_type": "stream",
          "name": "stdout",
          "text": [
            "[18, 21, 24, 27, 30]\n"
          ]
        }
      ]
    },
    {
      "cell_type": "code",
      "source": [
        "# 3. write a python program to lisify the list of given strings individually using python map\n",
        "l = [\"hello\", \"world\", \"python\"]\n",
        "print(list(map(lambda x: list(x), l)))"
      ],
      "metadata": {
        "colab": {
          "base_uri": "https://localhost:8080/"
        },
        "id": "A7zQ51fd1b-6",
        "outputId": "e5a32a94-c90d-422f-e604-1f6b9df585e9"
      },
      "execution_count": null,
      "outputs": [
        {
          "output_type": "stream",
          "name": "stdout",
          "text": [
            "[['h', 'e', 'l', 'l', 'o'], ['w', 'o', 'r', 'l', 'd'], ['p', 'y', 't', 'h', 'o', 'n']]\n"
          ]
        }
      ]
    },
    {
      "cell_type": "code",
      "source": [
        "# 4. write a python program to create a list containing the power of said number in bases raised to the index using map\n",
        "base = int(input(\"Enter the base number: \"))\n",
        "length = int(input(\"Enter the length of the required list: \"))\n",
        "\n",
        "print(list(map(lambda x: base ** x, range(length))))\n"
      ],
      "metadata": {
        "colab": {
          "base_uri": "https://localhost:8080/"
        },
        "id": "6HvpqIDy12U_",
        "outputId": "12f719b6-75fa-44f7-dd2e-8c2ccd499631"
      },
      "execution_count": null,
      "outputs": [
        {
          "output_type": "stream",
          "name": "stdout",
          "text": [
            "Enter the base number: 5\n",
            "Enter the length of the required list: 6\n",
            "[1, 5, 25, 125, 625, 3125]\n"
          ]
        }
      ]
    },
    {
      "cell_type": "code",
      "source": [
        "# 5. write a python program to square the elements of a list using the python map function\n",
        "print(list(map(lambda x:x**2, list(map(int,input(\"Enter list elements: \").split())))))"
      ],
      "metadata": {
        "colab": {
          "base_uri": "https://localhost:8080/"
        },
        "id": "ixOi6SstGGwv",
        "outputId": "11109f0f-0bf4-4216-ddf7-580628d9fc4b"
      },
      "execution_count": null,
      "outputs": [
        {
          "output_type": "stream",
          "name": "stdout",
          "text": [
            "1 2 3 4 5\n",
            "[1, 4, 9, 16, 25]\n"
          ]
        }
      ]
    },
    {
      "cell_type": "code",
      "source": [
        "# 6. write a python program to convert all characters into uppercase and lowercase and eliminate duplicate letters from given sequence using map\n",
        "seq = input(\"Enter sequence: \")\n",
        "\n",
        "uppercase = \"\".join(list(map(lambda x: x.upper(), seq)))\n",
        "lowercase = \"\".join(list(map(lambda x: x.lower(), seq)))\n",
        "\n",
        "No_duplicates_upper = \"\".join(dict.fromkeys(uppercase))\n",
        "No_duplicates_lower = \"\".join(dict.fromkeys(lowercase))\n",
        "\n",
        "print(\"Uppercase:\",uppercase)\n",
        "print(\"Lowercase:\",lowercase)\n",
        "print(\"Uppercase without duplicates:\",No_duplicates_upper)\n",
        "print(\"Lowercase without duplicates:\",No_duplicates_lower)"
      ],
      "metadata": {
        "id": "EnSLhK_oIhTo",
        "colab": {
          "base_uri": "https://localhost:8080/"
        },
        "outputId": "8416c829-6a4b-4bc0-cb5e-d951f2b50773"
      },
      "execution_count": 5,
      "outputs": [
        {
          "output_type": "stream",
          "name": "stdout",
          "text": [
            "Enter sequence: Hey! My Name is Sourav.\n",
            "Uppercase: HEY! MY NAME IS SOURAV.\n",
            "Lowercase hey! my name is sourav.\n",
            "Uppercase without duplicates: HEY! MNAISOURV.\n",
            "Lowercase without duplicates: hey! mnaisourv.\n"
          ]
        }
      ]
    },
    {
      "cell_type": "code",
      "source": [
        "# 7. write a python program to add 2 given lists and find differences between them using map\n",
        "list1 = list(map(int, input(\"Enter list1 elements: \").split()))\n",
        "list2 = list(map(int, input(\"Enter list2 elements: \").split()))\n",
        "def add(list1, list2):\n",
        "    return list(map(lambda x, y: x + y, list1, list2))\n",
        "def difference(list1, list2):\n",
        "    return list(map(lambda x, y: abs(x - y), list1, list2))\n",
        "\n",
        "if len(list1) != len(list2):\n",
        "  print(\"Lists must be of same length.\")\n",
        "else:\n",
        "  addedList = add(list1, list2)\n",
        "  print(\"Added List:\", addedList)\n",
        "  diffList = difference(list1, list2)\n",
        "  print(\"Difference List:\", diffList)\n"
      ],
      "metadata": {
        "colab": {
          "base_uri": "https://localhost:8080/"
        },
        "id": "Ow0Bgw4SfKKu",
        "outputId": "e0a75a18-f9b5-44cb-ef7e-5b437a5030d9"
      },
      "execution_count": 5,
      "outputs": [
        {
          "output_type": "stream",
          "name": "stdout",
          "text": [
            "Enter list1 elements: 1 2 34 5 2\n",
            "Enter list2 elements: 6 3 67 2 1\n",
            "Added List: [7, 5, 101, 7, 3]\n",
            "Difference List: [5, 1, 33, 3, 1]\n"
          ]
        }
      ]
    },
    {
      "cell_type": "code",
      "source": [
        "# 8. wap to convert a given list of integers and a tuple of integers in a list of strings\n",
        "\n",
        "integer_list = [1, 2, 3, 4, 5]\n",
        "integer_tuple = (6, 7, 8, 9, 10)\n",
        "\n",
        "list_of_strings_of_List = list(map(str,integer_list))\n",
        "list_of_strings_of_Tuple = list(map(str,integer_tuple))\n",
        "\n",
        "print(f\"List of strings from the list: {list_of_strings_of_List}\")\n",
        "print(f\"List of strings from the tuple: {list_of_strings_of_Tuple}\")"
      ],
      "metadata": {
        "colab": {
          "base_uri": "https://localhost:8080/"
        },
        "id": "WR1yn1AYiL2m",
        "outputId": "f4840fa2-a34f-4079-ba64-800bfdb76682"
      },
      "execution_count": 4,
      "outputs": [
        {
          "output_type": "stream",
          "name": "stdout",
          "text": [
            "List of strings from the list: ['1', '2', '3', '4', '5']\n",
            "List of strings from the tuple: ['6', '7', '8', '9', '10']\n"
          ]
        }
      ]
    },
    {
      "cell_type": "code",
      "source": [
        "# 9. wap to create a new list taking specific elements from a tuple and convert a string value to an integer\n",
        "tuple=(10, 'apple', '25', 3.14, 'banana')\n",
        "newlist=[]\n",
        "newlist.append(tuple[0])\n",
        "newlist.append(int(tuple[2]))\n",
        "print(newlist)"
      ],
      "metadata": {
        "colab": {
          "base_uri": "https://localhost:8080/"
        },
        "id": "8VZ9iPn3oCao",
        "outputId": "06845aae-2864-404b-f8af-2cbf3396d9ec"
      },
      "execution_count": 7,
      "outputs": [
        {
          "output_type": "stream",
          "name": "stdout",
          "text": [
            "[10, 25]\n"
          ]
        }
      ]
    },
    {
      "cell_type": "code",
      "source": [
        "# 10. wap to compute the square of first n fibonacci numbers using map and generate a list of numbers\n",
        "def fibonacci(n):\n",
        "    if n == 0:\n",
        "        return 0\n",
        "    elif n == 1:\n",
        "        return 1\n",
        "    else:\n",
        "        return fibonacci(n-1) + fibonacci(n-2)\n",
        "\n",
        "\n",
        "n = int(input(\"Enter the value of n: \"))\n",
        "fibonacci_numbers = list(map(fibonacci, range(n)))\n",
        "square_fibonacci = list(map(lambda x: x**2, fibonacci_numbers))\n",
        "print(square_fibonacci)"
      ],
      "metadata": {
        "colab": {
          "base_uri": "https://localhost:8080/"
        },
        "id": "WBX_9XHCtuFU",
        "outputId": "80e592ed-3b52-4b48-e676-f712d7f102d8"
      },
      "execution_count": 10,
      "outputs": [
        {
          "output_type": "stream",
          "name": "stdout",
          "text": [
            "Enter the value of n: 10\n",
            "[0, 1, 1, 4, 9, 25, 64, 169, 441, 1156]\n"
          ]
        }
      ]
    },
    {
      "cell_type": "code",
      "source": [
        "# 11. wap to compute the sum of elements of an array of integers using map\n",
        "print(\"sum = \",sum(list(map(int,input(\"Enter elements of array: \").split()))))"
      ],
      "metadata": {
        "colab": {
          "base_uri": "https://localhost:8080/"
        },
        "id": "-RcjmFH1x7-N",
        "outputId": "ecf22653-9d38-4046-dd4d-69510f746221"
      },
      "execution_count": 16,
      "outputs": [
        {
          "output_type": "stream",
          "name": "stdout",
          "text": [
            "Enter elements of array: 1 2 3 4 5\n",
            "sum =  15\n"
          ]
        }
      ]
    }
  ]
}