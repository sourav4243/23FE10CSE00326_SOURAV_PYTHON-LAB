{
 "cells": [
  {
   "cell_type": "markdown",
   "id": "621e62b3-8da3-4ac4-8ff0-3e4b042e77ca",
   "metadata": {},
   "source": [
    "# 18 sept 2024"
   ]
  },
  {
   "cell_type": "code",
   "execution_count": null,
   "id": "521becca-d2ca-4154-959e-02cc1cdb4a70",
   "metadata": {},
   "outputs": [],
   "source": [
    "# 1. wap to check if the given number is a disairum number(1^2 + 7^2 + 5^3 = 1+49+125 = 175)\n",
    "# 2. wap to determine whether the given number if a harshad number (if a number is divisible by the sum of its digit, then it will be known as a harshad number\n",
    "# 3. wap to print armstong number from 1 to 1000\n",
    "# 4. wap to compute the value of X^n\n",
    "# 5. wap to calculate the value of nCr\n",
    "# 6. wap to generate the fibonacci series\n",
    "# 7. wap to count the sum of digits in the entered number\n",
    "# 8. wap to find the reverse of a given number.\n",
    "# 9. wap to check whether a given Number is perfect number.\n",
    "# 10. wap to check whether a given number is palindrome or not\n",
    "# 11. wap a program to display the following pattern.\\\n",
    "'''\n",
    "1\n",
    "1 2\n",
    "1 2 3\n",
    "1 2 3 4\n",
    "'''"
   ]
  },
  {
   "cell_type": "code",
   "execution_count": 5,
   "id": "70fc4275-3319-4668-8ae1-585bbc046f44",
   "metadata": {},
   "outputs": [
    {
     "name": "stdin",
     "output_type": "stream",
     "text": [
      "Enter number:  175\n"
     ]
    },
    {
     "name": "stdout",
     "output_type": "stream",
     "text": [
      "175 is Disarium.\n"
     ]
    }
   ],
   "source": [
    "# 1. wap to check if the given number is a disairum number(1^1 + 7^2 + 5^3 = 1+49+125 = 175)\n",
    "\n",
    "num = input(\"Enter number: \")\n",
    "sum=0\n",
    "power = 1\n",
    "for i in num:\n",
    "    sum+=int(i)**power\n",
    "    power+=1\n",
    "if sum==int(num):\n",
    "    print(f\"{num} is Disarium.\")\n",
    "else:\n",
    "    print(f\"{num} is not Disarium.\")"
   ]
  },
  {
   "cell_type": "code",
   "execution_count": 11,
   "id": "f43f595b-3c34-4c74-b7a1-a0f3bf235667",
   "metadata": {},
   "outputs": [
    {
     "name": "stdin",
     "output_type": "stream",
     "text": [
      "Enter number:  50\n"
     ]
    },
    {
     "name": "stdout",
     "output_type": "stream",
     "text": [
      "50 is a Harshad number.\n"
     ]
    }
   ],
   "source": [
    "# 2. wap to determine whether the given number if a harshad number \n",
    "# (if a number is divisible by the sum of its digit, then it will be known as a harshad number\n",
    "num = input(\"Enter number: \")\n",
    "sum = 0\n",
    "for i in num:\n",
    "    sum+=int(i)\n",
    "if int(num)%sum == 0:\n",
    "    print(f\"{num} is a Harshad number.\")\n",
    "else:\n",
    "    print(f\"{num} is not a Harshad number.\")"
   ]
  },
  {
   "cell_type": "code",
   "execution_count": 3,
   "id": "c9bfe581-ea88-4057-aa1b-72544eb9aaae",
   "metadata": {},
   "outputs": [
    {
     "name": "stdout",
     "output_type": "stream",
     "text": [
      "1\n",
      "2\n",
      "3\n",
      "4\n",
      "5\n",
      "6\n",
      "7\n",
      "8\n",
      "9\n",
      "153\n",
      "370\n",
      "371\n",
      "407\n"
     ]
    }
   ],
   "source": [
    "# 3. wap to print armstong number from 1 to 1000\n",
    "print\n",
    "num=1\n",
    "while num<=1000:\n",
    "    sum = 0\n",
    "    for i in str(num):\n",
    "        sum+=int(i)**len(str(num))\n",
    "    if sum==num:\n",
    "        print(num)\n",
    "    num+=1"
   ]
  },
  {
   "cell_type": "code",
   "execution_count": 9,
   "id": "32680916-edde-42dc-8753-50b12c702265",
   "metadata": {},
   "outputs": [
    {
     "name": "stdin",
     "output_type": "stream",
     "text": [
      "Enter X:  5\n",
      "Enter n:  3\n"
     ]
    },
    {
     "name": "stdout",
     "output_type": "stream",
     "text": [
      "5^3 = 125\n"
     ]
    }
   ],
   "source": [
    "# 4. wap to compute the value of X^n\n",
    "X = int(input(\"Enter X: \"))\n",
    "n = int(input(\"Enter n: \"))\n",
    "print(f\"{X}^{n} =\",X**n)"
   ]
  },
  {
   "cell_type": "code",
   "execution_count": 17,
   "id": "9d2111d3-c5ce-42a4-933e-b383b47cc9d8",
   "metadata": {},
   "outputs": [
    {
     "name": "stdin",
     "output_type": "stream",
     "text": [
      "Enter n:  5\n",
      "Enter r:  4\n"
     ]
    },
    {
     "name": "stdout",
     "output_type": "stream",
     "text": [
      "5C4 = 5.0\n"
     ]
    }
   ],
   "source": [
    "# 5. wap to calculate the value of nCr\n",
    "import math\n",
    "n = int(input(\"Enter n: \"))\n",
    "r = int(input(\"Enter r: \"))\n",
    "print(f\"{n}C{r} =\",math.factorial(n)/(math.factorial(n-r)*math.factorial(r)))"
   ]
  },
  {
   "cell_type": "code",
   "execution_count": 51,
   "id": "0a57a2e0-b1b9-41f6-a06c-f3bc276e02d0",
   "metadata": {},
   "outputs": [
    {
     "name": "stdin",
     "output_type": "stream",
     "text": [
      "Enter range:  10\n"
     ]
    },
    {
     "name": "stdout",
     "output_type": "stream",
     "text": [
      "0 1 1 2 3 5 8 "
     ]
    }
   ],
   "source": [
    "# 6. wap to generate the fibonacci series\n",
    "\n",
    "n1,n2 = 0,1\n",
    "range = int(input(\"Enter range: \"))\n",
    "print(n1,n2,end=' ')\n",
    "while True:\n",
    "    n3 = n1+n2\n",
    "    if n3>=range:\n",
    "        break\n",
    "    print(n3,end=' ')\n",
    "    n1 = n2\n",
    "    n2 = n3"
   ]
  },
  {
   "cell_type": "code",
   "execution_count": 31,
   "id": "55af596d-24b4-4cb7-a0d7-972296c05e2a",
   "metadata": {},
   "outputs": [
    {
     "name": "stdin",
     "output_type": "stream",
     "text": [
      "Enter number:  1234\n"
     ]
    },
    {
     "name": "stdout",
     "output_type": "stream",
     "text": [
      "Sum = 10\n"
     ]
    }
   ],
   "source": [
    "# 7. wap to count the sum of digits in the entered number\n",
    "num = int(input(\"Enter number: \"))\n",
    "sum = 0\n",
    "for i in str(num):\n",
    "    sum+=int(i)\n",
    "print(\"Sum =\",sum)\n"
   ]
  },
  {
   "cell_type": "code",
   "execution_count": 37,
   "id": "05f8ba79-7bc9-4080-b890-b1f30ec4bd96",
   "metadata": {},
   "outputs": [
    {
     "name": "stdin",
     "output_type": "stream",
     "text": [
      "Enter number:  3452\n"
     ]
    },
    {
     "name": "stdout",
     "output_type": "stream",
     "text": [
      "2543\n"
     ]
    }
   ],
   "source": [
    "# 8. wap to find the reverse of a given number.\n",
    "num = input(\"Enter number: \")\n",
    "print(int(num[::-1]))"
   ]
  },
  {
   "cell_type": "code",
   "execution_count": 45,
   "id": "8031a8d7-fd30-43cf-b3c2-5ad044baf5e8",
   "metadata": {},
   "outputs": [
    {
     "name": "stdin",
     "output_type": "stream",
     "text": [
      "Enter number:  10\n"
     ]
    },
    {
     "name": "stdout",
     "output_type": "stream",
     "text": [
      "10 is not perfect number.\n"
     ]
    }
   ],
   "source": [
    "# 9. wap to check whether a given Number is perfect number.\n",
    "#(A perfect number is a positive integer that is equal to the sum of its proper divisors, excluding the number itself.)\n",
    "\n",
    "num = int(input(\"Enter number: \"))\n",
    "sum = 0\n",
    "for i in range(1,num):\n",
    "    if num%i == 0:\n",
    "        sum+=i\n",
    "if sum==num:\n",
    "    print(f\"{num} is perfect number.\")\n",
    "else:\n",
    "    print(f\"{num} is not perfect number.\")"
   ]
  },
  {
   "cell_type": "code",
   "execution_count": 63,
   "id": "44df024e-2fdc-4cde-b9d6-9ea9b1553a77",
   "metadata": {},
   "outputs": [
    {
     "name": "stdin",
     "output_type": "stream",
     "text": [
      "Enter number:  12321\n"
     ]
    },
    {
     "name": "stdout",
     "output_type": "stream",
     "text": [
      "12321 is palindrome.\n"
     ]
    }
   ],
   "source": [
    "# 10. wap to check whether a given number is palindrome or not\n",
    "num = input(\"Enter number: \")\n",
    "if num[::-1] == num:\n",
    "    print(f\"{num} is palindrome.\")\n",
    "else:\n",
    "    print(f\"{num} is not palindrme.\")"
   ]
  },
  {
   "cell_type": "code",
   "execution_count": null,
   "id": "7a100e49-7bdd-46ce-a0ae-6bf7e06ddb83",
   "metadata": {},
   "outputs": [],
   "source": []
  }
 ],
 "metadata": {
  "kernelspec": {
   "display_name": "Python 3 (ipykernel)",
   "language": "python",
   "name": "python3"
  },
  "language_info": {
   "codemirror_mode": {
    "name": "ipython",
    "version": 3
   },
   "file_extension": ".py",
   "mimetype": "text/x-python",
   "name": "python",
   "nbconvert_exporter": "python",
   "pygments_lexer": "ipython3",
   "version": "3.12.4"
  }
 },
 "nbformat": 4,
 "nbformat_minor": 5
}
