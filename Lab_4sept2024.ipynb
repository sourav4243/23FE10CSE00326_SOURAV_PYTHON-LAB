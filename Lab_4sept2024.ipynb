{
 "cells": [
  {
   "cell_type": "code",
   "execution_count": 17,
   "id": "42d78668-c152-4c1d-ba17-d4559f84f998",
   "metadata": {},
   "outputs": [
    {
     "name": "stdout",
     "output_type": "stream",
     "text": [
      "x1:  5\n",
      "y1:  6\n",
      "x2:  3\n",
      "y2:  2\n"
     ]
    },
    {
     "name": "stdout",
     "output_type": "stream",
     "text": [
      "Distance =  4.47213595499958\n"
     ]
    }
   ],
   "source": [
    "# wap in python to compute distance between two points\n",
    "import math\n",
    "x1 = int(input(\"x1: \"))\n",
    "y1 = int(input(\"y1: \"))\n",
    "x2 = int(input(\"x2: \"))\n",
    "y2 = int(input(\"y2: \"))\n",
    "\n",
    "print(\"Distance = \",math.sqrt((x2-x1)**2+(y2-y1)**2))\n",
    "\n"
   ]
  },
  {
   "cell_type": "code",
   "execution_count": 17,
   "id": "b1301ade-3f7e-451e-b633-9d5f5fa67b4d",
   "metadata": {},
   "outputs": [
    {
     "name": "stdout",
     "output_type": "stream",
     "text": [
      " 5\n",
      " 7\n",
      " 23\n",
      " 4\n",
      " 6\n"
     ]
    },
    {
     "name": "stdout",
     "output_type": "stream",
     "text": [
      "mean:  9.0\n",
      "median:  6\n"
     ]
    }
   ],
   "source": [
    "#25 elements in list. calculate  mean median and mode\n",
    "l=[]\n",
    "for i in range(5):\n",
    "    l.append(int(input()))\n",
    "print(\"mean: \",sum(l)/len(l))\n",
    "original = l;\n",
    "l.sort()\n",
    "print(\"median: \",l[len(l)//2])\n",
    "\n",
    "\n",
    "    \n",
    " \n",
    "#merge 2nd and 4th \n",
    "# merge 1st,3rd and 5th \n",
    "\n",
    "#slice them into 5 lists\n",
    "l1 = original[0:5]\n",
    "l2 = original[5:10]\n",
    "l3 = original[10:15]\n",
    "l4 = original[15:20]\n",
    "l5 = original[20:25]\n",
    "\n",
    "listA = l1+l3+l5\n",
    "listB = l2+l5"
   ]
  },
  {
   "cell_type": "code",
   "execution_count": 1,
   "id": "b31874bf-a206-40a0-a7a5-ac4b46978920",
   "metadata": {},
   "outputs": [
    {
     "data": {
      "text/plain": [
       "3.14159"
      ]
     },
     "execution_count": 1,
     "metadata": {},
     "output_type": "execute_result"
    }
   ],
   "source": [
    "\n",
    "import pi_const as constant\n",
    "\n",
    "constant.pi"
   ]
  },
  {
   "cell_type": "code",
   "execution_count": 55,
   "id": "d5f55821-129a-4dd9-bf1e-8b58b2b2115d",
   "metadata": {},
   "outputs": [
    {
     "name": "stdout",
     "output_type": "stream",
     "text": [
      "[3, 9, 3, 3, 9, 2, 1, 9, 7, 9, 3, 1, 7, 4, 6, 2, 9, 10, 10, 8, 8, 2, 9, 4, 3, 5, 6, 2, 6, 6, 2, 1, 7, 8, 10, 7, 2, 4, 1, 1, 6, 1, 5, 2, 6, 3, 10, 10, 4, 4, 4, 3, 8, 7, 8, 4, 8, 4, 6, 6, 2, 5, 10, 10, 9, 9, 2, 1, 9, 1, 10, 7, 6, 5, 3, 10, 1, 1, 9, 4, 7, 1, 2, 7, 10, 1, 8, 8, 1, 8, 1, 5, 2, 10, 4, 8, 1, 6, 7, 5]\n"
     ]
    }
   ],
   "source": [
    "# making list with random numbers :\n",
    "\n",
    "import random\n",
    "\n",
    "list_of_random = []\n",
    "for i in range(100):\n",
    "    list_of_random.append(random.randint(1,10))\n",
    "print(list_of_random)\n",
    "\n",
    "sizeofsublist = 36  # let we want to divide list into 36 list\n",
    "sizeofsublist = len(list_of_random)/numoflists\n",
    "list_of_list = []\n"
   ]
  }
 ],
 "metadata": {
  "kernelspec": {
   "display_name": "Python 3 (ipykernel)",
   "language": "python",
   "name": "python3"
  },
  "language_info": {
   "codemirror_mode": {
    "name": "ipython",
    "version": 3
   },
   "file_extension": ".py",
   "mimetype": "text/x-python",
   "name": "python",
   "nbconvert_exporter": "python",
   "pygments_lexer": "ipython3",
   "version": "3.12.4"
  }
 },
 "nbformat": 4,
 "nbformat_minor": 5
}
